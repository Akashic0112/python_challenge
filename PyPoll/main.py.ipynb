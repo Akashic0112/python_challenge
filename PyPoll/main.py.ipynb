{
 "cells": [
  {
   "cell_type": "code",
   "execution_count": 1,
   "metadata": {},
   "outputs": [],
   "source": [
    "#VOTE COUNTING\n",
    "import csv"
   ]
  },
  {
   "cell_type": "code",
   "execution_count": 2,
   "metadata": {},
   "outputs": [],
   "source": [
    "file = open(\"election_data.csv\")"
   ]
  },
  {
   "cell_type": "code",
   "execution_count": 3,
   "metadata": {},
   "outputs": [],
   "source": [
    "file_reader = csv.reader(file, delimiter=\",\")"
   ]
  },
  {
   "cell_type": "code",
   "execution_count": 4,
   "metadata": {},
   "outputs": [
    {
     "name": "stdout",
     "output_type": "stream",
     "text": [
      "['Voter ID', 'County', 'Candidate']\n"
     ]
    }
   ],
   "source": [
    "#print....\n",
    "header = next(file_reader)\n",
    "print(header)"
   ]
  },
  {
   "cell_type": "code",
   "execution_count": 5,
   "metadata": {},
   "outputs": [],
   "source": [
    "voter_count = 0\n",
    "county_l = []\n",
    "candidates = []\n",
    "voter_id = []\n",
    "#voter_count = sum(0 in row for file_reader)"
   ]
  },
  {
   "cell_type": "code",
   "execution_count": 6,
   "metadata": {},
   "outputs": [],
   "source": [
    "candidate_and_votes = {}"
   ]
  },
  {
   "cell_type": "code",
   "execution_count": null,
   "metadata": {},
   "outputs": [],
   "source": []
  },
  {
   "cell_type": "code",
   "execution_count": 7,
   "metadata": {},
   "outputs": [],
   "source": [
    "for row in file_reader:\n",
    "    voter_count = voter_count + 1\n",
    "#     voter_id.append(row[0])\n",
    "#     county = row[1]\n",
    "    candidate_name = row[2]\n",
    "    if candidate_name not in candidates:\n",
    "        candidates.append(candidate_name)\n",
    "        candidate_and_votes[candidate_name] = 1\n",
    "    candidate_and_votes[candidate_name] += 1"
   ]
  },
  {
   "cell_type": "code",
   "execution_count": null,
   "metadata": {},
   "outputs": [],
   "source": []
  },
  {
   "cell_type": "code",
   "execution_count": 8,
   "metadata": {},
   "outputs": [
    {
     "name": "stdout",
     "output_type": "stream",
     "text": [
      "['Khan', 'Correy', 'Li', \"O'Tooley\"]\n"
     ]
    }
   ],
   "source": [
    "print(candidates)"
   ]
  },
  {
   "cell_type": "code",
   "execution_count": 9,
   "metadata": {
    "scrolled": true
   },
   "outputs": [
    {
     "name": "stdout",
     "output_type": "stream",
     "text": [
      "{'Khan': 2218232, 'Correy': 704201, 'Li': 492941, \"O'Tooley\": 105631}\n"
     ]
    }
   ],
   "source": [
    "print(candidate_and_votes)"
   ]
  },
  {
   "cell_type": "code",
   "execution_count": 10,
   "metadata": {},
   "outputs": [],
   "source": [
    "output_file = open(\"output.txt\", \"w\")"
   ]
  },
  {
   "cell_type": "code",
   "execution_count": 11,
   "metadata": {},
   "outputs": [
    {
     "name": "stdout",
     "output_type": "stream",
     "text": [
      "Election Results\n",
      "-------------------\n",
      "Total Votes: 3521001\n",
      "-------------------\n",
      "Khan: 63.000% (2218232) \n",
      "\n",
      "Correy: 20.000% (704201) \n",
      "\n",
      "Li: 14.000% (492941) \n",
      "\n",
      "O'Tooley: 3.000% (105631) \n",
      "\n",
      "------------------- \n",
      "Winner: Khan\n",
      "-------------------\n"
     ]
    }
   ],
   "source": [
    "output_file.write(f\"Election Results \\n\")\n",
    "print(f\"Election Results\")\n",
    "output_file.write(f\"------------------- \\n\")\n",
    "print(f\"-------------------\")\n",
    "output_file.write(f\"Total Votes: {voter_count} \\n\")\n",
    "print(f\"Total Votes: {voter_count}\")\n",
    "output_file.write(f\"------------------- \\n\")\n",
    "print(f\"-------------------\")\n",
    "\n",
    "winner = \"\"\n",
    "winner_count = 0 \n",
    "for key in candidate_and_votes:\n",
    "    votes_per_candidate = candidate_and_votes[key]\n",
    "    percentage = (votes_per_candidate / voter_count)*100\n",
    "    output_file.write(f\"{key}: {percentage:.3f}% ({votes_per_candidate}) \\n\")\n",
    "    print(f\"{key}: {percentage:.3f}% ({votes_per_candidate}) \\n\")\n",
    "    if votes_per_candidate > winner_count:\n",
    "        winner_count = votes_per_candidate\n",
    "        winner = key\n",
    "        \n",
    "output_file.write(f\"------------------- \\n\")\n",
    "print(f\"------------------- \")\n",
    "output_file.write(f\"Winner: {winner}   \\n\")\n",
    "print(f\"Winner: {winner}\")\n",
    "output_file.write(f\"------------------- \\n\")  \n",
    "print(f\"-------------------\")"
   ]
  },
  {
   "cell_type": "code",
   "execution_count": null,
   "metadata": {},
   "outputs": [],
   "source": []
  },
  {
   "cell_type": "code",
   "execution_count": null,
   "metadata": {},
   "outputs": [],
   "source": []
  },
  {
   "cell_type": "code",
   "execution_count": null,
   "metadata": {},
   "outputs": [],
   "source": []
  },
  {
   "cell_type": "code",
   "execution_count": 12,
   "metadata": {},
   "outputs": [],
   "source": [
    "output_file.close()"
   ]
  },
  {
   "cell_type": "code",
   "execution_count": null,
   "metadata": {},
   "outputs": [],
   "source": []
  }
 ],
 "metadata": {
  "kernelspec": {
   "display_name": "Python 3",
   "language": "python",
   "name": "python3"
  },
  "language_info": {
   "codemirror_mode": {
    "name": "ipython",
    "version": 3
   },
   "file_extension": ".py",
   "mimetype": "text/x-python",
   "name": "python",
   "nbconvert_exporter": "python",
   "pygments_lexer": "ipython3",
   "version": "3.7.3"
  }
 },
 "nbformat": 4,
 "nbformat_minor": 2
}
