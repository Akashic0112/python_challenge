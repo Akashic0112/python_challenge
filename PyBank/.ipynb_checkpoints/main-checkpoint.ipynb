{
 "cells": [
  {
   "cell_type": "code",
   "execution_count": 107,
   "metadata": {},
   "outputs": [],
   "source": [
    "import csv"
   ]
  },
  {
   "cell_type": "code",
   "execution_count": 108,
   "metadata": {},
   "outputs": [],
   "source": [
    "file = open(\"budget_data.csv\")"
   ]
  },
  {
   "cell_type": "code",
   "execution_count": 109,
   "metadata": {},
   "outputs": [],
   "source": [
    "#print(file)\n",
    "#file is an object \n",
    "#<_io.TextIOWrapper name='budget_data.csv' mode='r' encoding='UTF-8'>"
   ]
  },
  {
   "cell_type": "code",
   "execution_count": 110,
   "metadata": {},
   "outputs": [],
   "source": [
    "file_reader = csv.reader(file, delimiter= \",\")"
   ]
  },
  {
   "cell_type": "code",
   "execution_count": 111,
   "metadata": {},
   "outputs": [],
   "source": [
    "#print(file_reader)\n",
    "#<_csv.reader object at 0x105234828>"
   ]
  },
  {
   "cell_type": "code",
   "execution_count": 112,
   "metadata": {},
   "outputs": [
    {
     "name": "stdout",
     "output_type": "stream",
     "text": [
      "['Date', 'Profit/Losses']\n"
     ]
    }
   ],
   "source": [
    "header = next(file_reader)\n",
    "print(header)"
   ]
  },
  {
   "cell_type": "code",
   "execution_count": 113,
   "metadata": {},
   "outputs": [],
   "source": [
    "total_months = 0"
   ]
  },
  {
   "cell_type": "code",
   "execution_count": 114,
   "metadata": {},
   "outputs": [],
   "source": [
    "net_total_amount = 0 "
   ]
  },
  {
   "cell_type": "code",
   "execution_count": 115,
   "metadata": {},
   "outputs": [],
   "source": [
    "change = 0"
   ]
  },
  {
   "cell_type": "code",
   "execution_count": 116,
   "metadata": {},
   "outputs": [],
   "source": [
    "changes_l = []"
   ]
  },
  {
   "cell_type": "code",
   "execution_count": 117,
   "metadata": {},
   "outputs": [],
   "source": [
    "months_l = []"
   ]
  },
  {
   "cell_type": "code",
   "execution_count": 118,
   "metadata": {},
   "outputs": [],
   "source": [
    "for every_row in file_reader:\n",
    "    total_months = total_months + 1\n",
    "    #print(total_months)\n",
    "    ##Error:\"unsupported operand type()->Type-casting to change str to int\n",
    "    net_total_amount = net_total_amount + int(every_row[1])\n",
    "    #print(net_total_amount)\n",
    "    #avg of change\n",
    "    previous = int(every_row[1])\n",
    "    #print(previous)\n",
    "    change = previous - change\n",
    "    #print(change)\n",
    "    changes_l.append(change)\n",
    "    months_l.append(every_row[0])"
   ]
  },
  {
   "cell_type": "code",
   "execution_count": 119,
   "metadata": {},
   "outputs": [
    {
     "name": "stdout",
     "output_type": "stream",
     "text": [
      "86\n",
      "38382578\n"
     ]
    }
   ],
   "source": [
    "print(total_months)\n",
    "print(net_total_amount)"
   ]
  },
  {
   "cell_type": "code",
   "execution_count": 120,
   "metadata": {},
   "outputs": [],
   "source": [
    "#len(changes_l)\n",
    "changes_l.remove(changes_l[0])"
   ]
  },
  {
   "cell_type": "code",
   "execution_count": 121,
   "metadata": {},
   "outputs": [
    {
     "name": "stdout",
     "output_type": "stream",
     "text": [
      "85\n"
     ]
    }
   ],
   "source": [
    "count_of_changes = len(changes_l)\n",
    "print(count_of_changes)"
   ]
  },
  {
   "cell_type": "code",
   "execution_count": 122,
   "metadata": {},
   "outputs": [],
   "source": [
    "sum_changes = 0\n",
    "for x in changes_l:\n",
    "    sum_changes =  sum_changes + x "
   ]
  },
  {
   "cell_type": "code",
   "execution_count": 123,
   "metadata": {},
   "outputs": [
    {
     "name": "stdout",
     "output_type": "stream",
     "text": [
      "240085.6\n"
     ]
    }
   ],
   "source": [
    "avg_of_changes = sum_changes/ count_of_changes\n",
    "print(avg_of_changes)"
   ]
  },
  {
   "cell_type": "code",
   "execution_count": 124,
   "metadata": {},
   "outputs": [
    {
     "name": "stdout",
     "output_type": "stream",
     "text": [
      "5276532\n"
     ]
    }
   ],
   "source": [
    "greatest_inc_prof = (max(changes_l))\n",
    "print(greatest_inc_prof)"
   ]
  },
  {
   "cell_type": "code",
   "execution_count": 125,
   "metadata": {},
   "outputs": [
    {
     "name": "stdout",
     "output_type": "stream",
     "text": [
      "-4526403\n"
     ]
    }
   ],
   "source": [
    "greatest_dcr_loss = (min(changes_l))\n",
    "print(greatest_dcr_loss)"
   ]
  },
  {
   "cell_type": "code",
   "execution_count": 126,
   "metadata": {},
   "outputs": [],
   "source": [
    "greatest_index = changes_l.index(greatest_inc_prof)\n"
   ]
  },
  {
   "cell_type": "code",
   "execution_count": 127,
   "metadata": {},
   "outputs": [],
   "source": [
    "losses_index = changes_l.index(greatest_dcr_loss)"
   ]
  },
  {
   "cell_type": "code",
   "execution_count": 128,
   "metadata": {},
   "outputs": [],
   "source": [
    "months_l.remove(months_l[0])"
   ]
  },
  {
   "cell_type": "code",
   "execution_count": 129,
   "metadata": {},
   "outputs": [
    {
     "data": {
      "text/plain": [
       "'Dec-2014'"
      ]
     },
     "execution_count": 129,
     "metadata": {},
     "output_type": "execute_result"
    }
   ],
   "source": [
    "months_l[greatest_index]"
   ]
  },
  {
   "cell_type": "code",
   "execution_count": 130,
   "metadata": {
    "scrolled": true
   },
   "outputs": [
    {
     "data": {
      "text/plain": [
       "'May-2014'"
      ]
     },
     "execution_count": 130,
     "metadata": {},
     "output_type": "execute_result"
    }
   ],
   "source": [
    "months_l[losses_index]"
   ]
  },
  {
   "cell_type": "code",
   "execution_count": 131,
   "metadata": {},
   "outputs": [
    {
     "name": "stdout",
     "output_type": "stream",
     "text": [
      "Fianalcial Analysis\n",
      "---------------------\n",
      "Total Months:86\n",
      "(Net)Total: 38382578\n",
      "Average Change: 240085.6\n",
      "Greatest Increase of Profits: Dec-2014:  5276532\n",
      "Greatest Decrease of Profits: May-2014:  -4526403\n"
     ]
    }
   ],
   "source": [
    "#Creat txt\n",
    "# your final script should both print the analysis to the terminal and export a text file with the results.\n",
    "\n",
    "line1 = \"Fianalcial Analysis\"\n",
    "line2 = \"---------------------\"\n",
    "line3 = \"Total Months:\"+ str(total_months)\n",
    "line4 = \"(Net)Total: \"+ str(net_total_amount)\n",
    "line5 = \"Average Change: \"+ str(avg_of_changes)\n",
    "line6 = \"Greatest Increase of Profits: \"+ str(months_l[greatest_index])+\":  \" +  str(greatest_inc_prof)\n",
    "line7 = \"Greatest Decrease of Profits: \"+ str(months_l[losses_index])+\":  \" + str(greatest_dcr_loss) \n",
    "\n",
    "print(line1)\n",
    "print(line2)\n",
    "print(line3)\n",
    "print(line4)\n",
    "print(line5)\n",
    "print(line6)\n",
    "print(line7)\n"
   ]
  },
  {
   "cell_type": "code",
   "execution_count": 132,
   "metadata": {},
   "outputs": [],
   "source": [
    "\n",
    "f = open(\"Analysis.txt\", \"w\")\n",
    "f.write(line1)\n",
    "f.write(line2)\n",
    "f.write(line3)\n",
    "f.write(line4)\n",
    "f.write(line5)\n",
    "f.write(line6)\n",
    "f.write(line7)\n",
    "f.close()\n",
    "file.close()"
   ]
  },
  {
   "cell_type": "code",
   "execution_count": null,
   "metadata": {},
   "outputs": [],
   "source": []
  }
 ],
 "metadata": {
  "kernelspec": {
   "display_name": "Python 3",
   "language": "python",
   "name": "python3"
  },
  "language_info": {
   "codemirror_mode": {
    "name": "ipython",
    "version": 3
   },
   "file_extension": ".py",
   "mimetype": "text/x-python",
   "name": "python",
   "nbconvert_exporter": "python",
   "pygments_lexer": "ipython3",
   "version": "3.7.3"
  }
 },
 "nbformat": 4,
 "nbformat_minor": 4
}
